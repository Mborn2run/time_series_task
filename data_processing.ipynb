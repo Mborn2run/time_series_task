{
 "cells": [
  {
   "cell_type": "code",
   "execution_count": 6,
   "metadata": {},
   "outputs": [],
   "source": [
    "import pandas as pd\n",
    "\n",
    "df = pd.read_csv('data/energy_pred/building_energy.csv')\n",
    "df = df.dropna().reset_index(drop=True)\n",
    "df.drop(['Unnamed: 0', 'hour', 'day_of_week', 'month'], axis=1, inplace=True)\n",
    "df['timestamp'] = pd.to_datetime(df['timestamp'])\n",
    "df['month'] = df.timestamp.apply(lambda row: row.month, 1)\n",
    "df['day'] = df.timestamp.apply(lambda row: row.day, 1)\n",
    "df['weekday'] = df.timestamp.apply(lambda row: row.weekday(), 1)\n",
    "df['hour'] = df.timestamp.apply(lambda row: row.hour, 1)\n",
    "df.drop(['timestamp'], axis=1, inplace=True)\n",
    "df.to_csv('data/energy_pred/processed.csv', index=False)\n",
    "df"
   ]
  }
 ],
 "metadata": {
  "kernelspec": {
   "display_name": "deeplearning",
   "language": "python",
   "name": "python3"
  },
  "language_info": {
   "codemirror_mode": {
    "name": "ipython",
    "version": 3
   },
   "file_extension": ".py",
   "mimetype": "text/x-python",
   "name": "python",
   "nbconvert_exporter": "python",
   "pygments_lexer": "ipython3",
   "version": "3.9.17"
  }
 },
 "nbformat": 4,
 "nbformat_minor": 2
}
